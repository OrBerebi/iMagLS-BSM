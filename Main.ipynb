{
 "cells": [
  {
   "cell_type": "markdown",
   "id": "51c0a486-ccc0-4601-832b-a9b248a38b74",
   "metadata": {},
   "source": [
    "# Example for Naural Network iMagLS BSM optimization\n",
    "\n",
    "## Data was generated based on a (Matlab) simulated 12 microphone circular array ATF and the messured KU100 HRTF\n",
    "\n",
    "### Run the code and the results figures are saved in the results directory"
   ]
  },
  {
   "cell_type": "code",
   "execution_count": null,
   "id": "1711fd73-6689-4be8-97f0-9cb58de9644f",
   "metadata": {},
   "outputs": [
    {
     "name": "stdout",
     "output_type": "stream",
     "text": [
      "Downloading pytorch_data.mat from Google Drive...\n"
     ]
    },
    {
     "name": "stderr",
     "output_type": "stream",
     "text": [
      "Downloading...\n",
      "From (original): https://drive.google.com/uc?id=1s-7clO7Ddq30HVIpt0G6XRIUsKxGCoeW\n",
      "From (redirected): https://drive.google.com/uc?id=1s-7clO7Ddq30HVIpt0G6XRIUsKxGCoeW&confirm=t&uuid=d35eb828-9004-4502-b91c-ae965b91a9cf\n",
      "To: /Users/orberebi/Documents/GitHub/iMagLS-BSM/results/pytorch_data.mat\n",
      "100%|██████████| 162M/162M [00:45<00:00, 3.53MB/s] \n"
     ]
    },
    {
     "name": "stdout",
     "output_type": "stream",
     "text": [
      "Python Platform: macOS-15.3.1-arm64-arm-64bit\n",
      "PyTorch Version: 2.3.0.post100\n",
      "\n",
      "Python 3.10.14 (main, May  6 2024, 14:42:37) [Clang 14.0.6 ]\n",
      "NVIDIA/CUDA GPU is NOT AVAILABLE\n",
      "MPS (Apple Metal) is AVAILABLE\n",
      "Target device is cpu\n",
      "\n",
      "\n",
      "----------Variables------------\n",
      "c_ls\t\t torch.Size([12, 2, 513]) \t torch.complex128\n",
      "c_mls\t\t torch.Size([12, 2, 513]) \t torch.complex128\n",
      "\n",
      "p_ref_bsm_f\t torch.Size([2, 72, 513]) \t torch.complex128\n",
      "p_ref_horiz_f\t torch.Size([2, 361, 513]) \t torch.complex128\n",
      "p_ref_lebedev_f\t torch.Size([2, 1454, 513]) \t torch.complex128\n",
      "\n",
      "V_k_bsm\t\t torch.Size([12, 72, 513]) \t torch.complex128\n",
      "V_k_horiz\t torch.Size([12, 361, 513]) \t torch.complex128\n",
      "V_k_lebedev\t torch.Size([12, 1454, 513]) \t torch.complex128\n",
      "\n",
      "omega_bsm\t (72, 2) \t\t\t float64\n",
      "omega_horizontal (361, 2) \t\t\t float64\n",
      "omega_lebedev\t (1454, 2) \t\t\t float64\n",
      "\n",
      "f_cut_magLS\t 1500 \t\t\t\t uint16\n",
      "f_vec\t\t (513, 1) \t\t\t float64\n",
      "nfft\t\t 1024 \t\t\t\t uint16\n",
      "fs\t\t 48000 \t\t\t\t uint16\n",
      "N_high\t\t 32 \t\t\t\t uint8\n",
      "\n",
      "arrayType\t rigidFullCirc\n",
      "HRTFpath\t ./HRTFs/HRIR_L2702_koln_T1024_lebedev.sofa\n",
      "SOFA file contained custom entries\n",
      "----------------------------------\n",
      "GLOBAL_Author, GLOBAL_ListenerDescription, GLOBAL_ReceiverDescription, GLOBAL_SourceDescription, GLOBAL_EmitterDescription, GLOBAL_RoomDescription\n"
     ]
    },
    {
     "name": "stderr",
     "output_type": "stream",
     "text": [
      "/Users/orberebi/anaconda3/envs/iBSM/lib/python3.10/site-packages/pyfar/classes/coordinates.py:1050: PyfarDeprecationWarning: 'This function will be deprecated in pyfar 0.8.0 in favor of spharpy.samplings.SamplingSphere.'\n",
      "  warnings.warn((\n"
     ]
    },
    {
     "name": "stdout",
     "output_type": "stream",
     "text": [
      "\n",
      "\n",
      "-----------NN summary---------\n",
      "=========================================================================================================\n",
      "Layer (type (var_name))                  Kernel Shape  Input Shape   Output Shape  Param #       Mult-Adds\n",
      "=========================================================================================================\n",
      "NN (NN)                                  --            [12, 2, 513]  [12, 2, 513]  --            --\n",
      "├─Linear (linear1)                       --            [481, 24]     [481, 24]     600           288,600\n",
      "│    └─weight                            [24, 24]                                  ├─576\n",
      "│    └─bias                              [24]                                      └─24\n",
      "├─Linear (linear2)                       --            [24, 481]     [24, 481]     231,842       5,564,208\n",
      "│    └─weight                            [481, 481]                                ├─231,361\n",
      "│    └─bias                              [481]                                     └─481\n",
      "=========================================================================================================\n",
      "Total params: 232,442\n",
      "Trainable params: 232,442\n",
      "Non-trainable params: 0\n",
      "Total mult-adds (M): 5.85\n",
      "=========================================================================================================\n",
      "Input size (MB): 0.20\n",
      "Forward/backward pass size (MB): 0.74\n",
      "Params size (MB): 3.72\n",
      "Estimated Total Size (MB): 4.65\n",
      "=========================================================================================================\n"
     ]
    },
    {
     "data": {
      "application/vnd.jupyter.widget-view+json": {
       "model_id": "8dc13354474d4346b846d34fbfa1fb06",
       "version_major": 2,
       "version_minor": 0
      },
      "text/plain": [
       "Loading...:   0%|          | 0/500 [00:00<?, ?it/s]"
      ]
     },
     "metadata": {},
     "output_type": "display_data"
    }
   ],
   "source": [
    "import local_functions as lf\n",
    "import os\n",
    "import gdown\n",
    "\n",
    "\n",
    "base_dir  = os.path.join('.')\n",
    "data_path = os.path.join(base_dir, \"results/\")\n",
    "os.makedirs(data_path, exist_ok=True)\n",
    "\n",
    "matlab_data_path = os.path.join(data_path, \"pytorch_data.mat\")\n",
    "\n",
    "# Google Drive download if the file is missing\n",
    "if not os.path.exists(matlab_data_path):\n",
    "    print(\"Downloading pytorch_data.mat from Google Drive...\")\n",
    "    gdown.download(\n",
    "        url=\"https://drive.google.com/uc?id=1s-7clO7Ddq30HVIpt0G6XRIUsKxGCoeW\",\n",
    "        output=matlab_data_path,\n",
    "        quiet=False\n",
    "    )\n",
    "    \n",
    "\n",
    "shutup  = False\n",
    "is_save = True\n",
    "\n",
    "# lambda[0] = NMSE\n",
    "# lambda[1] = Magnitude\n",
    "# lambda[2] = Masked Magnitude\n",
    "# lambda[3] = ILD\n",
    "# lambda[4] = mag diff\n",
    "epochs = 500\n",
    "lr = 0.0005\n",
    "lambda_vec  = [0,1,6, 0.25] # ratio\n",
    "lf.start(lambda_vec, epochs, lr, data_path, shutup, is_save)\n",
    "lf.plot_results_graphs_via_m_file(data_path, shutup, is_save)\n",
    "\n",
    "print(\"Done\")"
   ]
  }
 ],
 "metadata": {
  "kernelspec": {
   "display_name": "Python 3 (ipykernel)",
   "language": "python",
   "name": "python3"
  },
  "language_info": {
   "codemirror_mode": {
    "name": "ipython",
    "version": 3
   },
   "file_extension": ".py",
   "mimetype": "text/x-python",
   "name": "python",
   "nbconvert_exporter": "python",
   "pygments_lexer": "ipython3",
   "version": "3.10.14"
  }
 },
 "nbformat": 4,
 "nbformat_minor": 5
}
